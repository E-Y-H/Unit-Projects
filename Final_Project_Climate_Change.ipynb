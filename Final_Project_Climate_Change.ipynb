{
 "cells": [
  {
   "cell_type": "code",
   "execution_count": 21,
   "metadata": {},
   "outputs": [],
   "source": [
    "#import libraries\n",
    "\n",
    "import matplotlib.pyplot as plt\n",
    "import numpy as np\n",
    "import csv"
   ]
  },
  {
   "cell_type": "code",
   "execution_count": 22,
   "metadata": {},
   "outputs": [],
   "source": [
    "csvFile = open(\"sea_temp_anom_Dec_2002.csv\", \"r\") #opening the file\n",
    "csvReader = csv.reader(csvFile, delimiter = ',') #creating a csv reader (just like data frames)\n",
    "anom_list = list(csvReader)"
   ]
  },
  {
   "cell_type": "code",
   "execution_count": 23,
   "metadata": {},
   "outputs": [],
   "source": [
    "#how many items are in one row (width)\n",
    "#how many rows are there (length)\n",
    "\n",
    "width = len(anom_list[0])\n",
    "height = len(anom_list)"
   ]
  },
  {
   "cell_type": "code",
   "execution_count": 24,
   "metadata": {},
   "outputs": [],
   "source": [
    "grid = np.empty([height, width, 3], dtype=np.uint8)\n",
    "\n",
    "# We have to specify the height and width of the matrix along with the number of items \n",
    "# we can put in each spot on the grid. We want 3 because each color value has 3 numbers.\n",
    "# Finally, we specify the type of data we will put into the matrix."
   ]
  },
  {
   "cell_type": "code",
   "execution_count": 25,
   "metadata": {},
   "outputs": [
    {
     "name": "stdout",
     "output_type": "stream",
     "text": [
      "-5.0\n",
      "99998.0\n"
     ]
    }
   ],
   "source": [
    "#r is i\n",
    "#c is i[index]\n",
    "\n",
    "all_values = []\n",
    "for r, row in enumerate(anom_list):\n",
    "    for c, value in enumerate(row):\n",
    "        if float(value) < 99999:\n",
    "            all_values.append(float(value))\n",
    "            \n",
    "#find min and max to edit conditionals\n",
    "print(min(all_values))\n",
    "print(max(all_values))"
   ]
  },
  {
   "cell_type": "code",
   "execution_count": null,
   "metadata": {},
   "outputs": [],
   "source": [
    "for r, row in enumerate(anom_list):\n",
    "    for c, value in enumerate(row):\n",
    "        if float(value) <= 35:\n",
    "            grid[r,c] =\n",
    "        if float(value) <= 30:\n",
    "            grid[r,c] =\n",
    "        if float(value) <= 25:\n",
    "            grid[r,c] =\n",
    "        if float(value) <= 20:\n",
    "            grid[r,c] =\n",
    "        if float(value) <= 15:\n",
    "            grid[r,c] =\n",
    "        if float(value) <= 10:\n",
    "            grid[r,c] =\n",
    "        if float(value) <= 5:\n",
    "            grid[r,c] =\n",
    "        if float(value) <= 0:\n",
    "            grid[r,c] =\n",
    "        if float(value) <= -5:\n",
    "            grid[r,c] ="
   ]
  }
 ],
 "metadata": {
  "kernelspec": {
   "display_name": "Python 3",
   "language": "python",
   "name": "python3"
  },
  "language_info": {
   "codemirror_mode": {
    "name": "ipython",
    "version": 3
   },
   "file_extension": ".py",
   "mimetype": "text/x-python",
   "name": "python",
   "nbconvert_exporter": "python",
   "pygments_lexer": "ipython3",
   "version": "3.7.3"
  }
 },
 "nbformat": 4,
 "nbformat_minor": 2
}
