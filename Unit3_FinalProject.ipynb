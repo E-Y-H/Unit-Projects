{
 "cells": [
  {
   "cell_type": "markdown",
   "metadata": {},
   "source": [
    "# Unit 3 Final Projects: Calculating evolutionary distance\n",
    "\n",
    "In this notebook you will compare the sequence of a particular gene from 3 different species to find out which two are most closely related. \n",
    "\n",
    "You will need to do the following:\n",
    "1. Open and read in your files\n",
    "2. Decide which sequences to compare (DNA, RNA, or protein)\n",
    "3. Write code that prints out the percent similarity of each pair of sequences"
   ]
  },
  {
   "cell_type": "code",
   "execution_count": 61,
   "metadata": {},
   "outputs": [
    {
     "name": "stdout",
     "output_type": "stream",
     "text": [
      "ATGACAAACATCCGAAAATCCCACCCGCTAATTAAAATCATCAATCATTCTTTCATCGACCTACCAGCCCCCTCAAACATCTCATCATGATGAAACTTTGGCTCCCTCCTAGGAATTTGCCTAATCCTCCAAATCCTAACAGGCCTATTCCTAGCTATACACTACACATCAGACACAACAACTGCCTTCTCATCCGTCACCCACATCTGCCGAGACGTTAACTACGGATGAATCATTCGCTATCTCCATGCCAACGGAGCATCCATATTTTTCATCTGCCTCTTCATCCACGTAGGACGTGGCCTCTACTATGGCTCTTACACATTCCTAGAAACATGAAACATTGGAATTATCCTACTTCTCACAGTAATAGCCACAGCATTCATAGGCTACGTCCTACCATGAGGCCAAATATCCTTCTGAGGAGCAACAGTTATTACAAATCTCCTGTCAGCAATTCCCTACATCGGCACTACCCTCGTCGAGTGAATCTGAGGCGGATTCTCGGTAGACAAAGCCACCCTCACCCGATTTTTTGCCTTCCACTTCATCCTACCATTTATCATCACAGCCCTGGTAATCGTCCATTTACTATTCCTCCACGAAACAGGATCCAACAACCCCTCAGGAATTCCATCTGACATAGACAAAATCCCATTTCACCCATACTACACAATTAAAGATATCCTAGGACTCCTCCTCCTAATCCTACTCCTACTGACCCTAGTATTATTCTCTCCTGACCTCCTAGGAGACCCGGACAACTATACCCCAGCCAACCCTCTCAGCACTCCCCCTCATATTAAGCCAGAATGATATTTCCTATTTGCCTACGCCATCCTACGCTCTATTCCCAACAAACTAGGCGGCGTATTAGCCCTTATCCTTTCCATCTTAATCTTAGCACTCATCCCTACTCTACATACATCAAAACAACGAAGCATAATATTCCGACCTCTCAGTCAATGCGTGTTTTGACTCTTAGTAGCAGACTTACTAACACTAACATGAATCGGCGGCCAACCAGTGGAACACCCATACATAATTATCGGCCAACTGGCTTCAATCCTCTACTTCTCCCTAATTCTCATCTTCATACCACTCGCAAGCACCATTGAAAACAACCTTTTAAAATGAAGA\n"
     ]
    }
   ],
   "source": [
    "zebraDNA = open(\"3a_CYTB_DNA.txt\").read()\n",
    "print(zebraDNA)"
   ]
  },
  {
   "cell_type": "code",
   "execution_count": 62,
   "metadata": {},
   "outputs": [
    {
     "name": "stdout",
     "output_type": "stream",
     "text": [
      "ATGACTAACATCCGTAAATCCCACCCACTAATCAAAATTATCAATCACTCATTCATCGACCTACCCACCCCATCAAACATTTCAGCCTGATGAAATTTTGGCTCTCTACTAGGAATCTGCCTAATCCTACAAATCCTAACCGGACTATTTCTTGCTATACATTATACACCAGACACAACAACTGCCTTCTCATCCGTTGCCCACATCTGTCGAGAGGTAAACTACGGCTGAATTATCCGCTACCTACATGCAAACGGAGCATCCATATTTTTTATCTGCCTATTCATCCACATAGGACGCGGCCTCTATTACGGATCCTACACCTTCCTAAAAACCTGAAACATCGGAGTTATTCTACTACTCACAGTAATAGCCACAGCATTCATAGGCTATGTCCTACCATGAGGCCAAATATCCTTTTGAGGAGCAACAGTCATTACAAACCTACTCTCAGCTATCCCGTATATCGGCACAACTCTCGTAGAATGAATCTGAGGAGGGTTCTCCGTCGACAAAGCCACACTTACACGATTCTTCGCTTTCCACTTTATTCTCCCCTTTATCATCTCAGCCCTAGCAATCACCCACCTATTATTCCTACACGAAACAGGATCCAACAACCCATCAGGAATCCCATCCAATATAGACAAAATTCCATTCCACCCATACTACACAATCAAAGATATCCTAGGAATCCTACTCCTAATCCTAACACTACTCACCCTAGTCCTATTCTCACCCCACCATCTAGGAGACCCTGACAACTACACCCCCGCCACCCCTCTCAATACCCCTCCACATATCAAACCAGAGTGATATTTCTTATTTGCCTATGCAATCCTACGATCCGTCCCTAACAAACTAGGCGGAGTACTAGCCCTAGCACTTTCCATCCTAATCCTAGCTCTTATCCCCATTCTCCACACATCCAAACAACGAAGCATAATATTCCGACCCCTAAGCCAATGTATGTTCTGACTACTAGTAGCCGACTTACTCACACTTACATGAATCGGAGGACAACCAGTCGAGCACCCATTCATCATTATTGGCCAACTAGCATCAATCCTATATTTCTCCCTAATCCTAGTACTTATACCCCTTGCAGGCATTATCGAAAACAACCTTCTGAAATGAAGA\n"
     ]
    }
   ],
   "source": [
    "blackRhinoDNA = open(\"3b_CYTB_DNA.txt\").read()\n",
    "print(blackRhinoDNA)"
   ]
  },
  {
   "cell_type": "code",
   "execution_count": 63,
   "metadata": {},
   "outputs": [
    {
     "name": "stdout",
     "output_type": "stream",
     "text": [
      "ATGACCGACATTCGAAAATCTCACCCCTTACTTAAAATCATCAATAAATCCTTCATTGATCTACCTACCCCATCCAACATATCAACATGATGAAATTTCGGCTCACTACTAGGAGCATGCCTAATTACACAAATCCTAACAGGATTATTCCTAGCCATACATTATACACCCGACACAATAACTGCATTTTCATCTATATCCCATATTTGCCGAGATGTAAACTACGGCTGAATTATTCGACAACTACACTCAAACGGAGCATCCATTTTCTTCCTCTGCCTATACACACACATTGGACGAAACATCTACTATGGGTCCTACCTATACTCGGAAACTTGAAATACCGGCATTATATTACTACTAATCACCATAGCCACCGCCTTCATAGGATATGTCCTTCCGTGAGGACAAATATCATTCTGAGGGGCAACCGTAATCACTAACCTTCTCTCAGCAATCCCTTATATCGGCACAAACCTAGTAGAATGAATCTGAGGAGGCTTTTCAGTAGACAAAGCAACCTTAAATCGATTTTTCGCCCTCCATTTCATTCTTCCATTTACTATAATTGCACTAGCAGGAGTACACCTAACCTTTCTTCACGAAACAGGCTCAAACAATCCACTGGGCCTCACTTCAGACTCAGACAAAATCCCCTTTCACCCATACTATACCATTAAGGACTTCCTAGGATTACTTATCCTAATTTTACTTCTTCTACTCCTAGCCCTACTATCTCCTGACCATCTAGGAGACCCTGACAACTACACCCTGGCCAACCCCTTAAATAACCCCCCTCATATCAAGCCAGAGTGATATTTTCTCTTTGCTTACGCCATCCTACGATCTGTACCAAACAAACTAGGAGGCGTCCTAGCCCTACTCCTATCAATTCTAATCCTAGGATTAATACCACTTCTCCATACATCCAAGCACCGAAGCATAATACTCCGACCTCTTAGCCTATGTGCCTATTGCTGAACTCTAACAATAGATTTACTAACACTTACATGAATTGGCAGCCAACCAGTAGAATATCCTTACATCATTATTGGTCAAATAGCCTCAATTCTATATTTCTCCATTATCCTAGCCTTCCTGCCAATTGCAGGAGTAATCGAAAACTACCTCATTAAGTAA\n"
     ]
    }
   ],
   "source": [
    "savannaElephantDNA = open(\"3c_CYTB_DNA.txt\").read()\n",
    "print(savannaElephantDNA)"
   ]
  },
  {
   "cell_type": "code",
   "execution_count": 64,
   "metadata": {},
   "outputs": [],
   "source": [
    "# %similarity = (# of similarities) *100\n",
    "# all divided by\n",
    "# length of shorter sequence"
   ]
  },
  {
   "cell_type": "code",
   "execution_count": 65,
   "metadata": {},
   "outputs": [
    {
     "name": "stdout",
     "output_type": "stream",
     "text": [
      "1140\n",
      "1140\n",
      "1140\n"
     ]
    }
   ],
   "source": [
    "print(len(zebraDNA))\n",
    "print(len(blackRhinoDNA))\n",
    "print(len(savannaElephantDNA))"
   ]
  },
  {
   "cell_type": "code",
   "execution_count": 66,
   "metadata": {},
   "outputs": [
    {
     "name": "stdout",
     "output_type": "stream",
     "text": [
      "960\n",
      "84.21052631578948\n"
     ]
    }
   ],
   "source": [
    "sim_num = 0#similarities\n",
    "for index, ZR in enumerate(blackRhinoDNA):#ZR comparing zebra and rhino\n",
    "    if zebraDNA[index] == ZR:\n",
    "        sim_num += 1\n",
    "print(sim_num)\n",
    "ZRpercent = ((sim_num) * 100)/ 1140\n",
    "print(ZRpercent)"
   ]
  },
  {
   "cell_type": "code",
   "execution_count": 67,
   "metadata": {},
   "outputs": [
    {
     "name": "stdout",
     "output_type": "stream",
     "text": [
      "791\n",
      "69.3859649122807\n"
     ]
    }
   ],
   "source": [
    "sim_num = 0#similarities\n",
    "for index, RE in enumerate(savannaElephantDNA):#RE comparing rhino and elephant\n",
    "    if blackRhinoDNA[index] == RE:\n",
    "        sim_num += 1\n",
    "print(sim_num)\n",
    "REpercent = ((sim_num) * 100)/ 1140\n",
    "print(REpercent)"
   ]
  },
  {
   "cell_type": "code",
   "execution_count": 68,
   "metadata": {},
   "outputs": [
    {
     "name": "stdout",
     "output_type": "stream",
     "text": [
      "786\n",
      "68.94736842105263\n"
     ]
    }
   ],
   "source": [
    "sim_num = 0\n",
    "for index, ZE in enumerate(zebraDNA):\n",
    "    if savannaElephantDNA[index] == ZE:\n",
    "        sim_num += 1\n",
    "print(sim_num)\n",
    "ZEpercent = ((sim_num) * 100)/ 1140\n",
    "print(ZEpercent)"
   ]
  },
  {
   "cell_type": "markdown",
   "metadata": {},
   "source": [
    "## Bonus Challenge\n",
    "\n",
    "Visualize your results! Choose a graph type that you think will communicate your conclusions effectively and create it using matplotlib:"
   ]
  },
  {
   "cell_type": "code",
   "execution_count": 69,
   "metadata": {},
   "outputs": [],
   "source": [
    "import matplotlib.pyplot as plt"
   ]
  },
  {
   "cell_type": "code",
   "execution_count": 70,
   "metadata": {},
   "outputs": [
    {
     "data": {
      "image/png": "[encoded data removed]",
      "text/plain": [
       "<Figure size 432x288 with 1 Axes>"
      ]
     },
     "metadata": {
      "needs_background": "light"
     },
     "output_type": "display_data"
    }
   ],
   "source": [
    "plt.bar([1,2,3],[ZRpercent, REpercent, ZEpercent], color = [\"purple\", \"blue\",\"yellow\"])\n",
    "plt.title(\"Percent Similarity\")\n",
    "plt.xticks([1,2,3],[\"Zebra to Rhino\", \"Zebra to Elephant\", \"Rhino to Elephant\"])\n",
    "plt.show()"
   ]
  },
  {
   "cell_type": "markdown",
   "metadata": {},
   "source": [
    "## Bonus Challenge 2\n",
    "If you finish your project and want to try a challenge, come up with a hypothesis about which of the following species are most closely related to humans (carp, chicken, chimp, dog, eel, elephant, frog, gorilla, macaque monkey, mouse, orangutan, pig). Write out a ranked list with the species you think is most related to humans at the top.\n",
    "\n",
    "Then calculate the percent difference between the hemoglobin amino acid sequences of humans and each species to find out how close you came to the right ranking!"
   ]
  },
  {
   "cell_type": "code",
   "execution_count": null,
   "metadata": {
    "collapsed": true
   },
   "outputs": [],
   "source": []
  }
 ],
 "metadata": {
  "kernelspec": {
   "display_name": "Python 3",
   "language": "python",
   "name": "python3"
  },
  "language_info": {
   "codemirror_mode": {
    "name": "ipython",
    "version": 3
   },
   "file_extension": ".py",
   "mimetype": "text/x-python",
   "name": "python",
   "nbconvert_exporter": "python",
   "pygments_lexer": "ipython3",
   "version": "3.7.3"
  }
 },
 "nbformat": 4,
 "nbformat_minor": 2
}
